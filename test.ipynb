{
 "cells": [
  {
   "cell_type": "code",
   "execution_count": 12,
   "metadata": {},
   "outputs": [
    {
     "ename": "ValueError",
     "evalue": "Unknown format code 'b' for object of type 'str'",
     "output_type": "error",
     "traceback": [
      "\u001b[1;31m---------------------------------------------------------------------------\u001b[0m",
      "\u001b[1;31mValueError\u001b[0m                                Traceback (most recent call last)",
      "\u001b[1;32md:\\MyFold\\Programming data\\python-\\test.ipynb Cell 1\u001b[0m in \u001b[0;36m<cell line: 2>\u001b[1;34m()\u001b[0m\n\u001b[0;32m      <a href='vscode-notebook-cell:/d%3A/MyFold/Programming%20data/python-/test.ipynb#W0sZmlsZQ%3D%3D?line=0'>1</a>\u001b[0m n \u001b[39m=\u001b[39m \u001b[39m'\u001b[39m\u001b[39m00000010100101000001111010011100\u001b[39m\u001b[39m'\u001b[39m\n\u001b[1;32m----> <a href='vscode-notebook-cell:/d%3A/MyFold/Programming%20data/python-/test.ipynb#W0sZmlsZQ%3D%3D?line=1'>2</a>\u001b[0m oribin\u001b[39m=\u001b[39m\u001b[39m'\u001b[39;49m\u001b[39m{0:032b}\u001b[39;49;00m\u001b[39m'\u001b[39;49m\u001b[39m.\u001b[39;49mformat(n)\n\u001b[0;32m      <a href='vscode-notebook-cell:/d%3A/MyFold/Programming%20data/python-/test.ipynb#W0sZmlsZQ%3D%3D?line=2'>3</a>\u001b[0m oribin\n\u001b[0;32m      <a href='vscode-notebook-cell:/d%3A/MyFold/Programming%20data/python-/test.ipynb#W0sZmlsZQ%3D%3D?line=3'>4</a>\u001b[0m reversebin\u001b[39m=\u001b[39moribin[::\u001b[39m-\u001b[39m\u001b[39m1\u001b[39m]\n",
      "\u001b[1;31mValueError\u001b[0m: Unknown format code 'b' for object of type 'str'"
     ]
    }
   ],
   "source": [
    "n = '00000010100101000001111010011100'\n",
    "oribin='{0:032b}'.format(n)\n",
    "oribin\n",
    "reversebin=oribin[::-1]\n",
    "print(int(reversebin,2))\n"
   ]
  },
  {
   "cell_type": "code",
   "execution_count": 15,
   "metadata": {},
   "outputs": [
    {
     "data": {
      "text/plain": [
       "'00000000000000000000000000001010'"
      ]
     },
     "execution_count": 15,
     "metadata": {},
     "output_type": "execute_result"
    }
   ],
   "source": [
    "n=10\n",
    "np='{:032b}'.format(n)\n",
    "np"
   ]
  },
  {
   "cell_type": "code",
   "execution_count": 23,
   "metadata": {},
   "outputs": [
    {
     "data": {
      "text/plain": [
       "[1, 2, 2, 3, 5, 6]"
      ]
     },
     "execution_count": 23,
     "metadata": {},
     "output_type": "execute_result"
    }
   ],
   "source": [
    "nums1 = [1,2,3,0,0,0]\n",
    "m = 3\n",
    "nums2 = [2,5,6]\n",
    "n = 3\n",
    "\n",
    "\n",
    "nums1[m:m+n]=nums2[0:n]\n",
    "nums1.sort()\n",
    "\n",
    "\n",
    "nums1\n"
   ]
  },
  {
   "cell_type": "code",
   "execution_count": 39,
   "metadata": {},
   "outputs": [
    {
     "data": {
      "text/plain": [
       "['3', '2', '1']"
      ]
     },
     "execution_count": 39,
     "metadata": {},
     "output_type": "execute_result"
    }
   ],
   "source": [
    "AA=dict({\"3\":\"T\",\"2\":\"A\",\"1\":\"C\"})\n",
    "AA\n",
    "C=list(AA.keys())\n",
    "LL=[]\n"
   ]
  },
  {
   "cell_type": "code",
   "execution_count": 44,
   "metadata": {},
   "outputs": [
    {
     "data": {
      "text/plain": [
       "{0: 'O', 1: 'R', 2: 'D', 3: 'F'}"
      ]
     },
     "execution_count": 44,
     "metadata": {},
     "output_type": "execute_result"
    }
   ],
   "source": []
  },
  {
   "cell_type": "code",
   "execution_count": 71,
   "metadata": {},
   "outputs": [
    {
     "data": {
      "text/plain": [
       "['F', 'O', 'R', 'D']"
      ]
     },
     "execution_count": 71,
     "metadata": {},
     "output_type": "execute_result"
    }
   ],
   "source": [
    "season=\"ORDF\"\n",
    "ran=[1,2,3,0]\n",
    "season2=list(season)\n",
    "season2=[\"\" if x != \"\"  else x for x in season]\n",
    "for x in range(len(season)):\n",
    "    season2[ran[x]]=season[x]\n",
    "season2\n",
    "\n",
    "# s = ''.join(xs)"
   ]
  },
  {
   "cell_type": "code",
   "execution_count": 11,
   "metadata": {},
   "outputs": [
    {
     "data": {
      "text/plain": [
       "1"
      ]
     },
     "execution_count": 11,
     "metadata": {},
     "output_type": "execute_result"
    }
   ],
   "source": [
    "import collections\n",
    "A=[1,4,4,5,5,5,6,6,6,6]\n",
    "C=collections.Counter(A).most_common()[-1][0]\n",
    "C"
   ]
  },
  {
   "cell_type": "code",
   "execution_count": 14,
   "metadata": {},
   "outputs": [
    {
     "data": {
      "text/plain": [
       "[2, 3]"
      ]
     },
     "execution_count": 14,
     "metadata": {},
     "output_type": "execute_result"
    }
   ],
   "source": [
    "nums = [2,2,3,2]\n",
    "nums1=list(set(nums))\n",
    "nums\n",
    "nums1\n",
    "# 3"
   ]
  },
  {
   "cell_type": "code",
   "execution_count": null,
   "metadata": {},
   "outputs": [],
   "source": []
  },
  {
   "cell_type": "code",
   "execution_count": 26,
   "metadata": {},
   "outputs": [
    {
     "data": {
      "text/plain": [
       "5"
      ]
     },
     "execution_count": 26,
     "metadata": {},
     "output_type": "execute_result"
    }
   ],
   "source": [
    "nums = [7,1,5,3,6,4]\n",
    "# 9\n",
    "maxprofit=0\n",
    "minprice=float('inf')\n",
    "for x in range(len(nums)):\n",
    "    minprice=min(minprice,nums[x])\n",
    "    maxprofit=max(maxprofit,nums[x]-minprice)\n",
    "maxprofit\n"
   ]
  },
  {
   "cell_type": "code",
   "execution_count": 31,
   "metadata": {},
   "outputs": [
    {
     "data": {
      "text/plain": [
       "9"
      ]
     },
     "execution_count": 31,
     "metadata": {},
     "output_type": "execute_result"
    }
   ],
   "source": [
    "nums=[1,2,-3,4,5]\n",
    "maxsum=float('-inf')\n",
    "currsum=0\n",
    "for num in nums:\n",
    "    currsum+=num\n",
    "    currsum=max(currsum,num)\n",
    "    maxsum=max(maxsum,currsum)\n",
    "maxsum"
   ]
  },
  {
   "cell_type": "code",
   "execution_count": null,
   "metadata": {},
   "outputs": [],
   "source": []
  },
  {
   "cell_type": "code",
   "execution_count": null,
   "metadata": {},
   "outputs": [],
   "source": []
  }
 ],
 "metadata": {
  "kernelspec": {
   "display_name": "Python 3.10.4 64-bit",
   "language": "python",
   "name": "python3"
  },
  "language_info": {
   "codemirror_mode": {
    "name": "ipython",
    "version": 3
   },
   "file_extension": ".py",
   "mimetype": "text/x-python",
   "name": "python",
   "nbconvert_exporter": "python",
   "pygments_lexer": "ipython3",
   "version": "3.10.4"
  },
  "orig_nbformat": 4,
  "vscode": {
   "interpreter": {
    "hash": "029906d47f000714b447e526905d1ea81e95ec1dbe2df571fb127d13f0c97131"
   }
  }
 },
 "nbformat": 4,
 "nbformat_minor": 2
}
