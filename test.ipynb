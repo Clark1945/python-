{
 "cells": [
  {
   "cell_type": "code",
   "execution_count": 12,
   "metadata": {},
   "outputs": [
    {
     "ename": "ValueError",
     "evalue": "Unknown format code 'b' for object of type 'str'",
     "output_type": "error",
     "traceback": [
      "\u001b[1;31m---------------------------------------------------------------------------\u001b[0m",
      "\u001b[1;31mValueError\u001b[0m                                Traceback (most recent call last)",
      "\u001b[1;32md:\\MyFold\\Programming data\\python-\\test.ipynb Cell 1\u001b[0m in \u001b[0;36m<cell line: 2>\u001b[1;34m()\u001b[0m\n\u001b[0;32m      <a href='vscode-notebook-cell:/d%3A/MyFold/Programming%20data/python-/test.ipynb#W0sZmlsZQ%3D%3D?line=0'>1</a>\u001b[0m n \u001b[39m=\u001b[39m \u001b[39m'\u001b[39m\u001b[39m00000010100101000001111010011100\u001b[39m\u001b[39m'\u001b[39m\n\u001b[1;32m----> <a href='vscode-notebook-cell:/d%3A/MyFold/Programming%20data/python-/test.ipynb#W0sZmlsZQ%3D%3D?line=1'>2</a>\u001b[0m oribin\u001b[39m=\u001b[39m\u001b[39m'\u001b[39;49m\u001b[39m{0:032b}\u001b[39;49;00m\u001b[39m'\u001b[39;49m\u001b[39m.\u001b[39;49mformat(n)\n\u001b[0;32m      <a href='vscode-notebook-cell:/d%3A/MyFold/Programming%20data/python-/test.ipynb#W0sZmlsZQ%3D%3D?line=2'>3</a>\u001b[0m oribin\n\u001b[0;32m      <a href='vscode-notebook-cell:/d%3A/MyFold/Programming%20data/python-/test.ipynb#W0sZmlsZQ%3D%3D?line=3'>4</a>\u001b[0m reversebin\u001b[39m=\u001b[39moribin[::\u001b[39m-\u001b[39m\u001b[39m1\u001b[39m]\n",
      "\u001b[1;31mValueError\u001b[0m: Unknown format code 'b' for object of type 'str'"
     ]
    }
   ],
   "source": [
    "n = '00000010100101000001111010011100'\n",
    "oribin='{0:032b}'.format(n)\n",
    "oribin\n",
    "reversebin=oribin[::-1]\n",
    "print(int(reversebin,2))\n"
   ]
  },
  {
   "cell_type": "code",
   "execution_count": 15,
   "metadata": {},
   "outputs": [
    {
     "data": {
      "text/plain": [
       "'00000000000000000000000000001010'"
      ]
     },
     "execution_count": 15,
     "metadata": {},
     "output_type": "execute_result"
    }
   ],
   "source": [
    "n=10\n",
    "np='{:032b}'.format(n)\n",
    "np"
   ]
  },
  {
   "cell_type": "code",
   "execution_count": 23,
   "metadata": {},
   "outputs": [
    {
     "data": {
      "text/plain": [
       "[1, 2, 2, 3, 5, 6]"
      ]
     },
     "execution_count": 23,
     "metadata": {},
     "output_type": "execute_result"
    }
   ],
   "source": [
    "nums1 = [1,2,3,0,0,0]\n",
    "m = 3\n",
    "nums2 = [2,5,6]\n",
    "n = 3\n",
    "\n",
    "\n",
    "nums1[m:m+n]=nums2[0:n]\n",
    "nums1.sort()\n",
    "\n",
    "\n",
    "nums1\n"
   ]
  },
  {
   "cell_type": "code",
   "execution_count": 39,
   "metadata": {},
   "outputs": [
    {
     "data": {
      "text/plain": [
       "['3', '2', '1']"
      ]
     },
     "execution_count": 39,
     "metadata": {},
     "output_type": "execute_result"
    }
   ],
   "source": [
    "AA=dict({\"3\":\"T\",\"2\":\"A\",\"1\":\"C\"})\n",
    "AA\n",
    "C=list(AA.keys())\n",
    "LL=[]\n"
   ]
  },
  {
   "cell_type": "code",
   "execution_count": 44,
   "metadata": {},
   "outputs": [
    {
     "data": {
      "text/plain": [
       "{0: 'O', 1: 'R', 2: 'D', 3: 'F'}"
      ]
     },
     "execution_count": 44,
     "metadata": {},
     "output_type": "execute_result"
    }
   ],
   "source": []
  },
  {
   "cell_type": "code",
   "execution_count": 71,
   "metadata": {},
   "outputs": [
    {
     "data": {
      "text/plain": [
       "['F', 'O', 'R', 'D']"
      ]
     },
     "execution_count": 71,
     "metadata": {},
     "output_type": "execute_result"
    }
   ],
   "source": [
    "season=\"ORDF\"\n",
    "ran=[1,2,3,0]\n",
    "season2=list(season)\n",
    "season2=[\"\" if x != \"\"  else x for x in season]\n",
    "for x in range(len(season)):\n",
    "    season2[ran[x]]=season[x]\n",
    "season2\n",
    "\n",
    "# s = ''.join(xs)"
   ]
  },
  {
   "cell_type": "code",
   "execution_count": 11,
   "metadata": {},
   "outputs": [
    {
     "data": {
      "text/plain": [
       "1"
      ]
     },
     "execution_count": 11,
     "metadata": {},
     "output_type": "execute_result"
    }
   ],
   "source": [
    "import collections\n",
    "A=[1,4,4,5,5,5,6,6,6,6]\n",
    "C=collections.Counter(A).most_common()[-1][0]\n",
    "C"
   ]
  },
  {
   "cell_type": "code",
   "execution_count": 14,
   "metadata": {},
   "outputs": [
    {
     "data": {
      "text/plain": [
       "[2, 3]"
      ]
     },
     "execution_count": 14,
     "metadata": {},
     "output_type": "execute_result"
    }
   ],
   "source": [
    "nums = [2,2,3,2]\n",
    "nums1=list(set(nums))\n",
    "nums\n",
    "nums1\n",
    "# 3"
   ]
  },
  {
   "cell_type": "code",
   "execution_count": null,
   "metadata": {},
   "outputs": [],
   "source": []
  },
  {
   "cell_type": "code",
   "execution_count": 26,
   "metadata": {},
   "outputs": [
    {
     "data": {
      "text/plain": [
       "5"
      ]
     },
     "execution_count": 26,
     "metadata": {},
     "output_type": "execute_result"
    }
   ],
   "source": [
    "nums = [7,1,5,3,6,4]\n",
    "# 9\n",
    "maxprofit=0\n",
    "minprice=float('inf')\n",
    "for x in range(len(nums)):\n",
    "    minprice=min(minprice,nums[x])\n",
    "    maxprofit=max(maxprofit,nums[x]-minprice)\n",
    "maxprofit\n"
   ]
  },
  {
   "cell_type": "code",
   "execution_count": 31,
   "metadata": {},
   "outputs": [
    {
     "data": {
      "text/plain": [
       "9"
      ]
     },
     "execution_count": 31,
     "metadata": {},
     "output_type": "execute_result"
    }
   ],
   "source": [
    "nums=[1,2,-3,4,5]\n",
    "maxsum=float('-inf')\n",
    "currsum=0\n",
    "for num in nums:\n",
    "    currsum+=num\n",
    "    currsum=max(currsum,num)\n",
    "    maxsum=max(maxsum,currsum)\n",
    "maxsum"
   ]
  },
  {
   "cell_type": "code",
   "execution_count": null,
   "metadata": {},
   "outputs": [],
   "source": []
  },
  {
   "cell_type": "code",
   "execution_count": 12,
   "metadata": {},
   "outputs": [
    {
     "ename": "NameError",
     "evalue": "name 'job' is not defined",
     "output_type": "error",
     "traceback": [
      "\u001b[1;31m---------------------------------------------------------------------------\u001b[0m",
      "\u001b[1;31mNameError\u001b[0m                                 Traceback (most recent call last)",
      "\u001b[1;32m~\\AppData\\Local\\Temp\\ipykernel_17984\\270549478.py\u001b[0m in \u001b[0;36m<cell line: 26>\u001b[1;34m()\u001b[0m\n\u001b[0;32m     24\u001b[0m         \u001b[0mself\u001b[0m\u001b[1;33m.\u001b[0m\u001b[0mthread_job\u001b[0m\u001b[1;33m(\u001b[0m\u001b[1;33m)\u001b[0m\u001b[1;33m\u001b[0m\u001b[1;33m\u001b[0m\u001b[0m\n\u001b[0;32m     25\u001b[0m \u001b[1;33m\u001b[0m\u001b[0m\n\u001b[1;32m---> 26\u001b[1;33m \u001b[0mrun\u001b[0m \u001b[1;33m=\u001b[0m \u001b[0mrunner\u001b[0m\u001b[1;33m(\u001b[0m\u001b[1;33m)\u001b[0m \u001b[1;31m# 生成物件\u001b[0m\u001b[1;33m\u001b[0m\u001b[1;33m\u001b[0m\u001b[0m\n\u001b[0m\u001b[0;32m     27\u001b[0m \u001b[0mrun\u001b[0m\u001b[1;33m.\u001b[0m\u001b[0mthread_start\u001b[0m\u001b[1;33m(\u001b[0m\u001b[1;33m)\u001b[0m \u001b[1;31m#使用方法\u001b[0m\u001b[1;33m\u001b[0m\u001b[1;33m\u001b[0m\u001b[0m\n",
      "\u001b[1;32m~\\AppData\\Local\\Temp\\ipykernel_17984\\270549478.py\u001b[0m in \u001b[0;36m__init__\u001b[1;34m(self)\u001b[0m\n\u001b[0;32m      4\u001b[0m \u001b[1;32mclass\u001b[0m \u001b[0mrunner\u001b[0m\u001b[1;33m(\u001b[0m\u001b[0mobject\u001b[0m\u001b[1;33m)\u001b[0m\u001b[1;33m:\u001b[0m\u001b[1;33m\u001b[0m\u001b[1;33m\u001b[0m\u001b[0m\n\u001b[0;32m      5\u001b[0m     \u001b[1;32mdef\u001b[0m \u001b[0m__init__\u001b[0m\u001b[1;33m(\u001b[0m\u001b[0mself\u001b[0m\u001b[1;33m)\u001b[0m\u001b[1;33m:\u001b[0m\u001b[1;33m\u001b[0m\u001b[1;33m\u001b[0m\u001b[0m\n\u001b[1;32m----> 6\u001b[1;33m         \u001b[0mself\u001b[0m\u001b[1;33m.\u001b[0m\u001b[0mthread_job\u001b[0m\u001b[1;33m(\u001b[0m\u001b[1;33m)\u001b[0m \u001b[1;31m# 定義程序清單\u001b[0m\u001b[1;33m\u001b[0m\u001b[1;33m\u001b[0m\u001b[0m\n\u001b[0m\u001b[0;32m      7\u001b[0m \u001b[1;33m\u001b[0m\u001b[0m\n\u001b[0;32m      8\u001b[0m     \u001b[1;32mdef\u001b[0m \u001b[0mjob\u001b[0m\u001b[1;33m(\u001b[0m\u001b[0mname\u001b[0m\u001b[1;33m)\u001b[0m\u001b[1;33m:\u001b[0m \u001b[1;31m# 程序1\u001b[0m\u001b[1;33m\u001b[0m\u001b[1;33m\u001b[0m\u001b[0m\n",
      "\u001b[1;32m~\\AppData\\Local\\Temp\\ipykernel_17984\\270549478.py\u001b[0m in \u001b[0;36mthread_job\u001b[1;34m(self)\u001b[0m\n\u001b[0;32m     11\u001b[0m     \u001b[1;32mdef\u001b[0m \u001b[0mthread_job\u001b[0m\u001b[1;33m(\u001b[0m\u001b[0mself\u001b[0m\u001b[1;33m)\u001b[0m\u001b[1;33m:\u001b[0m \u001b[1;31m# 定義線程清單\u001b[0m\u001b[1;33m\u001b[0m\u001b[1;33m\u001b[0m\u001b[0m\n\u001b[0;32m     12\u001b[0m         \u001b[0mself\u001b[0m\u001b[1;33m.\u001b[0m\u001b[0mthreads\u001b[0m \u001b[1;33m=\u001b[0m \u001b[1;33m[\u001b[0m\u001b[1;34m\"Jonny\"\u001b[0m\u001b[1;33m]\u001b[0m\u001b[1;33m\u001b[0m\u001b[1;33m\u001b[0m\u001b[0m\n\u001b[1;32m---> 13\u001b[1;33m         \u001b[0mt\u001b[0m \u001b[1;33m=\u001b[0m \u001b[0mthreading\u001b[0m\u001b[1;33m.\u001b[0m\u001b[0mThread\u001b[0m\u001b[1;33m(\u001b[0m\u001b[0mtarget\u001b[0m\u001b[1;33m=\u001b[0m\u001b[0mjob\u001b[0m\u001b[1;33m,\u001b[0m \u001b[0margs\u001b[0m\u001b[1;33m=\u001b[0m\u001b[1;33m(\u001b[0m\u001b[1;34m'Nash'\u001b[0m\u001b[1;33m,\u001b[0m\u001b[1;33m)\u001b[0m\u001b[1;33m)\u001b[0m\u001b[1;33m\u001b[0m\u001b[1;33m\u001b[0m\u001b[0m\n\u001b[0m\u001b[0;32m     14\u001b[0m         \u001b[0mself\u001b[0m\u001b[1;33m.\u001b[0m\u001b[0mthreads\u001b[0m\u001b[1;33m.\u001b[0m\u001b[0mappend\u001b[0m\u001b[1;33m(\u001b[0m\u001b[0mt\u001b[0m\u001b[1;33m)\u001b[0m\u001b[1;33m\u001b[0m\u001b[1;33m\u001b[0m\u001b[0m\n\u001b[0;32m     15\u001b[0m \u001b[1;33m\u001b[0m\u001b[0m\n",
      "\u001b[1;31mNameError\u001b[0m: name 'job' is not defined"
     ]
    }
   ],
   "source": [
    "import threading\n",
    "\n",
    "## 在class內的用法 --------------------------------------------------- #\n",
    "class runner(object):\n",
    "    def __init__(self):\n",
    "        self.thread_job() # 定義程序清單\n",
    "        \n",
    "    def job(name): # 程序1\n",
    "        print(\"HI \" + name)\n",
    "        \n",
    "    def thread_job(self): # 定義線程清單\n",
    "        self.threads = [\"Jonny\"]\n",
    "        t = threading.Thread(target=job, args=('Nash',))\n",
    "        self.threads.append(t)\n",
    "        \n",
    "    def thread_start(self): # 開始線程\n",
    "        \n",
    "        for t in self.threads:\n",
    "            t.start() # 開始\n",
    "\n",
    "        for t in self.threads:\n",
    "            t.join() # 等待結束\n",
    "            \n",
    "        self.thread_job()\n",
    "\n",
    "run = runner() # 生成物件\n",
    "run.thread_start() #使用方法"
   ]
  },
  {
   "cell_type": "code",
   "execution_count": 6,
   "metadata": {},
   "outputs": [
    {
     "name": "stdout",
     "output_type": "stream",
     "text": [
      "start\n",
      "end\n"
     ]
    },
    {
     "name": "stdout",
     "output_type": "stream",
     "text": [
      "sleep done\n"
     ]
    }
   ],
   "source": [
    "import threading\n",
    "import time\n",
    " \n",
    " \n",
    "def scraper():\n",
    "    print(\"start\")\n",
    "    time.sleep(10)\n",
    "    print(\"sleep done\")\n",
    " \n",
    " \n",
    "t = threading.Thread(target=scraper)  #建立執行緒\n",
    "t.start()  #執行\n",
    "print(\"end\")"
   ]
  },
  {
   "cell_type": "code",
   "execution_count": 8,
   "metadata": {},
   "outputs": [
    {
     "name": "stdout",
     "output_type": "stream",
     "text": [
      "start\n",
      "end\n"
     ]
    },
    {
     "name": "stdout",
     "output_type": "stream",
     "text": [
      "sleep done\n"
     ]
    }
   ],
   "source": [
    "import threading\n",
    "import time\n",
    " \n",
    " \n",
    "def scraper(x):\n",
    "    print(\"start\")\n",
    "    time.sleep(x)\n",
    "    print(\"sleep done\")\n",
    " \n",
    " \n",
    "t = threading.Thread(target=scraper, args=(3,))  # 建立執行緒\n",
    "t.start()  # 執行\n",
    "print(\"end\")"
   ]
  },
  {
   "cell_type": "code",
   "execution_count": 9,
   "metadata": {},
   "outputs": [
    {
     "name": "stdout",
     "output_type": "stream",
     "text": [
      "Google 錯失 ChatGPT 引起的 AI 良機？Pichai：太快推出恐出包破壞商譽\n",
      "中國出手管制聊天、繪圖 AI，必須打上「浮水印」以供識別\n",
      "【硬塞專家開評】美圖秀秀 AI Art 掀起全民 AI 變身運動，背後技術解析與隱憂\n",
      "DeepMind 新 AI：幫你自動生成電影腳本！\n",
      "【塞掐 Side Chat】E98｜AI 滅世或生機？從搜尋引擎到輿情分析 ft. 意藍資訊創辦人楊立偉\n",
      "ChatGPT 連 Code 都能寫？Nature 評論：軟體工程師先別換工作\n",
      "【硬塞專家開評】AI 想的行銷企劃，距離人類還有多遠？\n",
      "【硬塞專家開評】ChatGPT 平均智商約 83，但讓 NLP 工程師覺得工作毫無意義\n",
      "168 件納斯卡線畫重現天日！日山形大學 AI・無人機尋得遺跡\n",
      "錯誤率太高啦！Stack Overflow 禁止分享 ChatGPT 產生的答案\n",
      "科學家在實驗室培養皿上，養出會玩電子遊戲的「迷你大腦」\n",
      "來自南京的重度腦麻患者完成英國博士學位，開發出AI輔助遠端診斷COVID-19軟體\n",
      "一圖看懂你隱藏版Adobe特質！\n",
      "一圖看懂你隱藏版 Adobe 特質！\n",
      "AI圖像生成工具打造作品獲科羅拉多州博覽會數位藝術首獎，什麼是藝術引熱議\n",
      "美國禁超微、輝達的GPU銷中，嚴重打擊中國AI發展，拖累台廠供應鏈股價重挫\n",
      "NVIDIA 攜手 Dell 推出全新資料中心解決方案，以 NVIDIA DPU 、 NVIDIA GPU 及 VMware vSphere 8 建構零信任安全與與人工智慧方案\n",
      "人工智慧也可抓逃漏稅：法國稅務局用AI找出未申報的泳池，替國庫入帳1000萬歐元\n",
      "AI 也可以當律師，20組法律科技團隊搶50萬獎金\n",
      "Google 錯失 ChatGPT 引起的 AI 良機？Pichai：太快推出恐出包破壞商譽\n",
      "中國出手管制聊天、繪圖 AI，必須打上「浮水印」以供識別\n",
      "【硬塞專家開評】美圖秀秀 AI Art 掀起全民 AI 變身運動，背後技術解析與隱憂\n",
      "DeepMind 新 AI：幫你自動生成電影腳本！\n",
      "【塞掐 Side Chat】E98｜AI 滅世或生機？從搜尋引擎到輿情分析 ft. 意藍資訊創辦人楊立偉\n",
      "ChatGPT 連 Code 都能寫？Nature 評論：軟體工程師先別換工作\n",
      "【硬塞專家開評】AI 想的行銷企劃，距離人類還有多遠？\n",
      "【硬塞專家開評】ChatGPT 平均智商約 83，但讓 NLP 工程師覺得工作毫無意義\n",
      "168 件納斯卡線畫重現天日！日山形大學 AI・無人機尋得遺跡\n",
      "錯誤率太高啦！Stack Overflow 禁止分享 ChatGPT 產生的答案\n",
      "科學家在實驗室培養皿上，養出會玩電子遊戲的「迷你大腦」\n",
      "來自南京的重度腦麻患者完成英國博士學位，開發出AI輔助遠端診斷COVID-19軟體\n",
      "一圖看懂你隱藏版Adobe特質！\n",
      "一圖看懂你隱藏版 Adobe 特質！\n",
      "AI圖像生成工具打造作品獲科羅拉多州博覽會數位藝術首獎，什麼是藝術引熱議\n",
      "美國禁超微、輝達的GPU銷中，嚴重打擊中國AI發展，拖累台廠供應鏈股價重挫\n",
      "NVIDIA 攜手 Dell 推出全新資料中心解決方案，以 NVIDIA DPU 、 NVIDIA GPU 及 VMware vSphere 8 建構零信任安全與與人工智慧方案\n",
      "人工智慧也可抓逃漏稅：法國稅務局用AI找出未申報的泳池，替國庫入帳1000萬歐元\n",
      "AI 也可以當律師，20組法律科技團隊搶50萬獎金\n",
      "Google 錯失 ChatGPT 引起的 AI 良機？Pichai：太快推出恐出包破壞商譽\n",
      "中國出手管制聊天、繪圖 AI，必須打上「浮水印」以供識別\n",
      "【硬塞專家開評】美圖秀秀 AI Art 掀起全民 AI 變身運動，背後技術解析與隱憂\n",
      "DeepMind 新 AI：幫你自動生成電影腳本！\n",
      "【塞掐 Side Chat】E98｜AI 滅世或生機？從搜尋引擎到輿情分析 ft. 意藍資訊創辦人楊立偉\n",
      "ChatGPT 連 Code 都能寫？Nature 評論：軟體工程師先別換工作\n",
      "【硬塞專家開評】AI 想的行銷企劃，距離人類還有多遠？\n",
      "【硬塞專家開評】ChatGPT 平均智商約 83，但讓 NLP 工程師覺得工作毫無意義\n",
      "168 件納斯卡線畫重現天日！日山形大學 AI・無人機尋得遺跡\n",
      "錯誤率太高啦！Stack Overflow 禁止分享 ChatGPT 產生的答案\n",
      "科學家在實驗室培養皿上，養出會玩電子遊戲的「迷你大腦」\n",
      "來自南京的重度腦麻患者完成英國博士學位，開發出AI輔助遠端診斷COVID-19軟體\n",
      "一圖看懂你隱藏版Adobe特質！\n",
      "一圖看懂你隱藏版 Adobe 特質！\n",
      "AI圖像生成工具打造作品獲科羅拉多州博覽會數位藝術首獎，什麼是藝術引熱議\n",
      "美國禁超微、輝達的GPU銷中，嚴重打擊中國AI發展，拖累台廠供應鏈股價重挫\n",
      "NVIDIA 攜手 Dell 推出全新資料中心解決方案，以 NVIDIA DPU 、 NVIDIA GPU 及 VMware vSphere 8 建構零信任安全與與人工智慧方案\n",
      "人工智慧也可抓逃漏稅：法國稅務局用AI找出未申報的泳池，替國庫入帳1000萬歐元\n",
      "AI 也可以當律師，20組法律科技團隊搶50萬獎金\n",
      "Google 錯失 ChatGPT 引起的 AI 良機？Pichai：太快推出恐出包破壞商譽\n",
      "中國出手管制聊天、繪圖 AI，必須打上「浮水印」以供識別\n",
      "【硬塞專家開評】美圖秀秀 AI Art 掀起全民 AI 變身運動，背後技術解析與隱憂\n",
      "DeepMind 新 AI：幫你自動生成電影腳本！\n",
      "【塞掐 Side Chat】E98｜AI 滅世或生機？從搜尋引擎到輿情分析 ft. 意藍資訊創辦人楊立偉\n",
      "ChatGPT 連 Code 都能寫？Nature 評論：軟體工程師先別換工作\n",
      "【硬塞專家開評】AI 想的行銷企劃，距離人類還有多遠？\n",
      "【硬塞專家開評】ChatGPT 平均智商約 83，但讓 NLP 工程師覺得工作毫無意義\n",
      "168 件納斯卡線畫重現天日！日山形大學 AI・無人機尋得遺跡\n",
      "錯誤率太高啦！Stack Overflow 禁止分享 ChatGPT 產生的答案\n",
      "科學家在實驗室培養皿上，養出會玩電子遊戲的「迷你大腦」\n",
      "來自南京的重度腦麻患者完成英國博士學位，開發出AI輔助遠端診斷COVID-19軟體\n",
      "一圖看懂你隱藏版Adobe特質！\n",
      "一圖看懂你隱藏版 Adobe 特質！\n",
      "AI圖像生成工具打造作品獲科羅拉多州博覽會數位藝術首獎，什麼是藝術引熱議\n",
      "美國禁超微、輝達的GPU銷中，嚴重打擊中國AI發展，拖累台廠供應鏈股價重挫\n",
      "NVIDIA 攜手 Dell 推出全新資料中心解決方案，以 NVIDIA DPU 、 NVIDIA GPU 及 VMware vSphere 8 建構零信任安全與與人工智慧方案\n",
      "人工智慧也可抓逃漏稅：法國稅務局用AI找出未申報的泳池，替國庫入帳1000萬歐元\n",
      "AI 也可以當律師，20組法律科技團隊搶50萬獎金\n",
      "Google 錯失 ChatGPT 引起的 AI 良機？Pichai：太快推出恐出包破壞商譽\n",
      "中國出手管制聊天、繪圖 AI，必須打上「浮水印」以供識別\n",
      "【硬塞專家開評】美圖秀秀 AI Art 掀起全民 AI 變身運動，背後技術解析與隱憂\n",
      "DeepMind 新 AI：幫你自動生成電影腳本！\n",
      "【塞掐 Side Chat】E98｜AI 滅世或生機？從搜尋引擎到輿情分析 ft. 意藍資訊創辦人楊立偉\n",
      "ChatGPT 連 Code 都能寫？Nature 評論：軟體工程師先別換工作\n",
      "【硬塞專家開評】AI 想的行銷企劃，距離人類還有多遠？\n",
      "【硬塞專家開評】ChatGPT 平均智商約 83，但讓 NLP 工程師覺得工作毫無意義\n",
      "168 件納斯卡線畫重現天日！日山形大學 AI・無人機尋得遺跡\n",
      "錯誤率太高啦！Stack Overflow 禁止分享 ChatGPT 產生的答案\n",
      "科學家在實驗室培養皿上，養出會玩電子遊戲的「迷你大腦」\n",
      "來自南京的重度腦麻患者完成英國博士學位，開發出AI輔助遠端診斷COVID-19軟體\n",
      "一圖看懂你隱藏版Adobe特質！\n",
      "一圖看懂你隱藏版 Adobe 特質！\n",
      "AI圖像生成工具打造作品獲科羅拉多州博覽會數位藝術首獎，什麼是藝術引熱議\n",
      "美國禁超微、輝達的GPU銷中，嚴重打擊中國AI發展，拖累台廠供應鏈股價重挫\n",
      "NVIDIA 攜手 Dell 推出全新資料中心解決方案，以 NVIDIA DPU 、 NVIDIA GPU 及 VMware vSphere 8 建構零信任安全與與人工智慧方案\n",
      "人工智慧也可抓逃漏稅：法國稅務局用AI找出未申報的泳池，替國庫入帳1000萬歐元\n",
      "AI 也可以當律師，20組法律科技團隊搶50萬獎金\n",
      "3.1204745769500732 秒爬取 5 頁的文章\n"
     ]
    }
   ],
   "source": [
    "from bs4 import BeautifulSoup\n",
    "import concurrent.futures\n",
    "import requests\n",
    "import time\n",
    " \n",
    " \n",
    "def scrape(urls):\n",
    "    response = requests.get(urls)\n",
    " \n",
    "    soup = BeautifulSoup(response.content, \"lxml\")\n",
    " \n",
    "    # 爬取文章標題\n",
    "    titles = soup.find_all(\"h3\", {\"class\": \"post_title\"})\n",
    " \n",
    "    for title in titles:\n",
    "        print(title.getText().strip())\n",
    " \n",
    "    time.sleep(2)\n",
    " \n",
    " \n",
    "base_url = \"https://www.inside.com.tw/tag/AI\"\n",
    "urls = [f\"{base_url}?page={page}\" for page in range(1, 6)]  # 1~5頁的網址清單\n",
    " \n",
    "start_time = time.time()  # 開始時間\n",
    " \n",
    "# 同時建立及啟用10個執行緒\n",
    "with concurrent.futures.ThreadPoolExecutor(max_workers=10) as executor:\n",
    "    executor.map(scrape, urls)\n",
    " \n",
    "end_time = time.time()\n",
    "print(f\"{end_time - start_time} 秒爬取 {len(urls)} 頁的文章\")"
   ]
  },
  {
   "cell_type": "code",
   "execution_count": 4,
   "metadata": {},
   "outputs": [
    {
     "name": "stdout",
     "output_type": "stream",
     "text": [
      "<class 'str'>\n"
     ]
    }
   ],
   "source": [
    "s = \"   -42\"\n",
    "pattern=[\"0\",\"1\",\"2\",\"3\",\"4\",\"5\",\"6\",\"7\",\"8\",\"9\",\"-\"]\n",
    "ans=\"\"\n",
    "for i in range(len(s)):\n",
    "    if s[i] in pattern:\n",
    "        ans+=s[i]\n",
    "print(type(ans))"
   ]
  },
  {
   "cell_type": "code",
   "execution_count": 8,
   "metadata": {},
   "outputs": [
    {
     "name": "stdout",
     "output_type": "stream",
     "text": [
      "Counter({'b': 2})\n"
     ]
    },
    {
     "data": {
      "text/plain": [
       "3"
      ]
     },
     "execution_count": 8,
     "metadata": {},
     "output_type": "execute_result"
    }
   ],
   "source": [
    "import collections\n",
    "# s=\"abccccdd\"\n",
    "# s=\"a\"\n",
    "s=\"bb\"\n",
    "ans=collections.Counter(s)\n",
    "print(ans)\n",
    "sum=1\n",
    "if len(set(s))==1:\n",
    "    sum=0\n",
    "for key,val in ans.items():\n",
    "    if val!=1:\n",
    "        sum+=val\n",
    "sum"
   ]
  },
  {
   "cell_type": "code",
   "execution_count": null,
   "metadata": {},
   "outputs": [],
   "source": []
  }
 ],
 "metadata": {
  "kernelspec": {
   "display_name": "Python 3.10.4 64-bit",
   "language": "python",
   "name": "python3"
  },
  "language_info": {
   "codemirror_mode": {
    "name": "ipython",
    "version": 3
   },
   "file_extension": ".py",
   "mimetype": "text/x-python",
   "name": "python",
   "nbconvert_exporter": "python",
   "pygments_lexer": "ipython3",
   "version": "3.10.4"
  },
  "orig_nbformat": 4,
  "vscode": {
   "interpreter": {
    "hash": "029906d47f000714b447e526905d1ea81e95ec1dbe2df571fb127d13f0c97131"
   }
  }
 },
 "nbformat": 4,
 "nbformat_minor": 2
}
