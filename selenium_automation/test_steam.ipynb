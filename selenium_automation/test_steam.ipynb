{
 "cells": [
  {
   "cell_type": "code",
   "execution_count": 2,
   "metadata": {},
   "outputs": [
    {
     "name": "stderr",
     "output_type": "stream",
     "text": [
      "C:\\Users\\17E5\\AppData\\Local\\Temp\\ipykernel_14556\\3190882197.py:5: DeprecationWarning: executable_path has been deprecated, please pass in a Service object\n",
      "  driver = webdriver.Chrome('./chromedriver')\n"
     ]
    }
   ],
   "source": [
    "from selenium import webdriver\n",
    "from selenium.webdriver.common.by import By\n",
    "from selenium.webdriver.common.action_chains import ActionChains\n",
    "\n",
    "driver = webdriver.Chrome('./chromedriver')\n",
    "driver.get('https://example.oxxostudio.tw/python/selenium/demo.html')\n",
    "a = driver.find_element(By.ID, 'a')\n",
    "show = driver.find_element(By.ID, 'show')\n",
    "actions = ActionChains(driver)\n",
    "actions.click(show).send_keys(['1','2','3','4','5'])    # 輸入 1～5 的鍵盤值 ( 必須是字串 )\n",
    "actions.pause(1)    # 等待一秒\n",
    "actions.click(a)    # 點擊按鈕 A\n",
    "actions.pause(1)    # 等待一秒\n",
    "actions.send_keys_to_element(show, ['A','B','C','D','E'])   # # 輸入 A～E 的鍵盤值\n",
    "actions.perform()   # 送出動作"
   ]
  },
  {
   "cell_type": "code",
   "execution_count": 3,
   "metadata": {},
   "outputs": [
    {
     "name": "stderr",
     "output_type": "stream",
     "text": [
      "C:\\Users\\17E5\\AppData\\Local\\Temp\\ipykernel_14556\\703980944.py:4: DeprecationWarning: executable_path has been deprecated, please pass in a Service object\n",
      "  driver = webdriver.Chrome('./chromedriver')\n"
     ]
    },
    {
     "name": "stdout",
     "output_type": "stream",
     "text": [
      "cb80b555-e0b8-4ee4-a472-bb8200624321\n",
      "B ( class=\"btn\" )\n",
      "button\n",
      "{'height': 42, 'width': 147}\n",
      "https://www.google.com/\n",
      "_blank\n"
     ]
    },
    {
     "data": {
      "text/plain": [
       "True"
      ]
     },
     "execution_count": 3,
     "metadata": {},
     "output_type": "execute_result"
    }
   ],
   "source": [
    "from selenium import webdriver\n",
    "from selenium.webdriver.common.by import By\n",
    "\n",
    "driver = webdriver.Chrome('./chromedriver')\n",
    "driver.get('https://example.oxxostudio.tw/python/selenium/demo.html')\n",
    "body = driver.find_element(By.TAG_NAME, 'body')\n",
    "a = driver.find_element(By.ID, 'a')\n",
    "b = driver.find_element(By.CLASS_NAME, 'btn')\n",
    "c = driver.find_element(By.CSS_SELECTOR, '.test')\n",
    "d = driver.find_element(By.NAME, 'dog')\n",
    "link1 = driver.find_element(By.LINK_TEXT, '我是超連結，點擊會開啟 Google 網站')\n",
    "link2 = driver.find_element(By.PARTIAL_LINK_TEXT, 'Google')\n",
    "\n",
    "print(a.id)\n",
    "print(b.text)\n",
    "print(c.tag_name)\n",
    "print(d.size)\n",
    "print(link1.get_attribute('href'))\n",
    "print(link2.get_attribute('target'))\n",
    "body.screenshot('./test.png') # 畫面截圖"
   ]
  },
  {
   "cell_type": "code",
   "execution_count": 14,
   "metadata": {},
   "outputs": [
    {
     "name": "stderr",
     "output_type": "stream",
     "text": [
      "C:\\Users\\17E5\\AppData\\Local\\Temp\\ipykernel_14556\\761409872.py:6: DeprecationWarning: executable_path has been deprecated, please pass in a Service object\n",
      "  driver = webdriver.Chrome('./chromedriver')\n"
     ]
    },
    {
     "name": "stdout",
     "output_type": "stream",
     "text": [
      "Selenium 4.7 documentation\n"
     ]
    }
   ],
   "source": [
    "from selenium import webdriver\n",
    "from selenium.webdriver.common.by import By\n",
    "from selenium.webdriver.common.alert import Alert\n",
    "from time import sleep\n",
    "\n",
    "driver = webdriver.Chrome('./chromedriver')\n",
    "driver.get('https://www.selenium.dev/selenium/docs/api/py/webdriver_remote/selenium.webdriver.remote.webelement.html')\n",
    "\n",
    "sleep(1)\n",
    "driver.execute_script('window.scrollTo(0, 500)')   # 捲動到 500px 位置\n",
    "sleep(1)\n",
    "driver.execute_script('window.scrollTo(0, 2500)')  # 捲動到 2500px 位置\n",
    "sleep(1)\n",
    "driver.execute_script('window.scrollTo(0, 0)')     # 捲動到 0px 位置\n",
    "\n",
    "h1 = driver.find_element(By.TAG_NAME, 'h1').text\n",
    "h3 = driver.find_element(By.PARTIAL_LINK_TEXT, 'documentation').text\n",
    "print(h3)\n",
    "script = '''\n",
    "  let h1 = arguments[0];\n",
    "  let h3 = arguments[1];\n",
    "  alert(h1+\"_\"+h3)\n",
    "'''\n",
    "driver.execute_script(script, h1, h3)   # 執行 JavaScript，印出元素 加入參數\n",
    "sleep(5)\n",
    "Alert(driver).accept()    # 點擊提示視窗的確認按鈕，關閉提示視窗"
   ]
  },
  {
   "cell_type": "code",
   "execution_count": null,
   "metadata": {},
   "outputs": [],
   "source": []
  }
 ],
 "metadata": {
  "kernelspec": {
   "display_name": "Python 3",
   "language": "python",
   "name": "python3"
  },
  "language_info": {
   "codemirror_mode": {
    "name": "ipython",
    "version": 3
   },
   "file_extension": ".py",
   "mimetype": "text/x-python",
   "name": "python",
   "nbconvert_exporter": "python",
   "pygments_lexer": "ipython3",
   "version": "3.10.4"
  },
  "orig_nbformat": 4,
  "vscode": {
   "interpreter": {
    "hash": "029906d47f000714b447e526905d1ea81e95ec1dbe2df571fb127d13f0c97131"
   }
  }
 },
 "nbformat": 4,
 "nbformat_minor": 2
}
